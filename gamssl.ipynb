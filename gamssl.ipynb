{
 "cells": [
  {
   "cell_type": "code",
   "execution_count": null,
   "metadata": {},
   "outputs": [],
   "source": [
    "import sqlalchemy\n",
    "import getpass\n",
    "from operator import attrgetter\n",
    "from sklearn.metrics import precision_recall_fscore_support,classification_report\n",
    "from sqlalchemy import event\n",
    "from sklearn.ensemble import RandomForestClassifier\n",
    "from sklearn.model_selection import train_test_split\n",
    "from impala.dbapi import connect\n",
    "import numpy as np\n",
    "import pandas as pd\n",
    "import seaborn as sns\n",
    "import matplotlib.pyplot as plt\n",
    "import plotly.express as px\n",
    "import plotly.graph_objects as go\n",
    "import scipy\n",
    "import scipy.cluster.hierarchy as sch\n",
    "from statistics import stdev\n",
    "from pprint import pprint\n",
    "from sklearn.decomposition import PCA\n",
    "import session_info\n",
    "import warnings\n",
    "import scikitplot as skplt\n",
    "from sklearn.model_selection import RepeatedKFold\n",
    "warnings.filterwarnings(\"ignore\")\n",
    "sns.set_context(\"notebook\")\n",
    "#import machine learning related libraries\n",
    "from sklearn import preprocessing\n",
    "from sklearn.preprocessing import OneHotEncoder\n",
    "from sklearn.utils import shuffle\n",
    "from sklearn.multioutput import MultiOutputClassifier\n",
    "from sklearn.ensemble import GradientBoostingClassifier\n",
    "from sklearn.tree import DecisionTreeClassifier\n",
    "from sklearn.neighbors import KNeighborsClassifier\n",
    "from sklearn.naive_bayes import GaussianNB\n",
    "from sklearn.ensemble import RandomForestClassifier\n",
    "from sklearn.linear_model import LogisticRegression\n",
    "from sklearn.calibration import CalibratedClassifierCV\n",
    "from sklearn.linear_model import LinearRegression\n",
    "from sklearn.inspection import permutation_importance\n",
    "from sklearn.model_selection import KFold, cross_val_score, train_test_split,GridSearchCV, cross_validate\n",
    "from sklearn.metrics import accuracy_score, f1_score, precision_score,recall_score, confusion_matrix\n",
    "from sklearn.cluster import KMeans\n",
    "from sklearn.preprocessing import RobustScaler\n",
    "# from sklearn import metricsf\n",
    "import sqlalchemy\n",
    "import pickle\n"
   ]
  },
  {
   "cell_type": "code",
   "execution_count": null,
   "metadata": {},
   "outputs": [],
   "source": [
    "def conn():\n",
    "    return connect(\n",
    "        host='impala.catalyst.intrum.net',\n",
    "        port=25008,\n",
    "        database='default',\n",
    "        # timeout=20,\n",
    "        # use_ssl=True,\n",
    "        # ca_cert='some_pem',\n",
    "        user= getpass.getpass(\"enter user :\"),\n",
    "        password= getpass.getpass(\"enter pass :\"),\n",
    "        auth_mechanism='PLAIN',)\n",
    "\n",
    "\n",
    "        \n",
    "if __name__ == \"__main__\":\n",
    "    # Catalyst connection\n",
    "    engine = sqlalchemy.create_engine('impala://', creator=conn)\n",
    "    #     query = \"\"\" SELECT * from system7006.cases LIMIT 1000\"\"\"\n",
    "    #     cases = pd.read_sql(query, engine)\n",
    "\n",
    "    @event.listens_for(engine, 'before_cursor_execute')\n",
    "    def receive_before_cursor_execute(conn, cursor, statement, params, context, executemany):\n",
    "        if executemany:\n",
    "            cursor.fast_executemany = True\n",
    "        \n",
    "    query_default_prevention_final = \"\"\"       SELECT *\n",
    "                                               FROM gda_sandbox.es_default_prevention_table_contingency\n",
    "                                     \"\"\"\n",
    "    final = pd.read_sql(query_default_prevention_final, engine)"
   ]
  }
 ],
 "metadata": {
  "kernelspec": {
   "display_name": "Python 3.10.5 64-bit",
   "language": "python",
   "name": "python3"
  },
  "language_info": {
   "name": "python",
   "version": "3.10.5"
  },
  "orig_nbformat": 4,
  "vscode": {
   "interpreter": {
    "hash": "a6399c5737f2ba33a1d138c9b1f57824c3650a4a1b26e65766eb1978b5902d69"
   }
  }
 },
 "nbformat": 4,
 "nbformat_minor": 2
}
